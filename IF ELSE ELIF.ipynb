{
 "cells": [
  {
   "cell_type": "code",
   "execution_count": 15,
   "id": "70e3ea3f",
   "metadata": {},
   "outputs": [
    {
     "name": "stdout",
     "output_type": "stream",
     "text": [
      "enter the marks55\n",
      "you got grade D\n"
     ]
    }
   ],
   "source": [
    "#write a program to accept percentage from the user and display the grade\n",
    "\n",
    "Marks = int(input(\"enter the marks\"))\n",
    "if Marks > 90:\n",
    "    print(\"you got grade A\")\n",
    "elif Marks > 80 and Marks <= 90:\n",
    "    print(\"you got grade B\")\n",
    "elif Marks >=60 and Marks <=80 :\n",
    "    print(\"you got grade C\")\n",
    "else  :\n",
    "    print(\"you got grade D\")"
   ]
  },
  {
   "cell_type": "code",
   "execution_count": 20,
   "id": "f1c64e37",
   "metadata": {},
   "outputs": [
    {
     "name": "stdout",
     "output_type": "stream",
     "text": [
      "ENTER THE COST OF BIKE40000\n",
      "5% tax on the bike\n"
     ]
    }
   ],
   "source": [
    "cost = int(input(\"ENTER THE COST OF BIKE\"))\n",
    "if cost > 100000:\n",
    "    print(\"15% tax on the bike\")\n",
    "elif cost > 500000 and cost <=100000 :\n",
    "    print(\"10% tax on the bike\")\n",
    "else :\n",
    "    print(\"5% tax on the bike\")"
   ]
  },
  {
   "cell_type": "code",
   "execution_count": 34,
   "id": "e7f35ee1",
   "metadata": {},
   "outputs": [
    {
     "name": "stdout",
     "output_type": "stream",
     "text": [
      "Enter the year2001\n",
      "2001 is not a leap year\n"
     ]
    }
   ],
   "source": [
    "# Take input year from user\n",
    "year = int(input(\"Enter the year\"))\n",
    "\n",
    "# Check if the year is a leap year or not\n",
    "if (year % 4) == 0:\n",
    "    if (year % 100) == 0:\n",
    "        if (year % 400) == 0:\n",
    "            print(year, \"is a leap year\")\n",
    "        else:\n",
    "            print(year, \"is not a leap year\")\n",
    "    else:\n",
    "        print(year, \"is a leap year\")\n",
    "else:\n",
    "    print(year, \"is not a leap year\")\n"
   ]
  },
  {
   "cell_type": "code",
   "execution_count": 36,
   "id": "f5e89ec5",
   "metadata": {},
   "outputs": [
    {
     "name": "stdout",
     "output_type": "stream",
     "text": [
      "Enter any number between 1 to 7    7\n",
      "sunday\n"
     ]
    }
   ],
   "source": [
    "day = int(input(\"Enter any number between 1 to 7    \"))\n",
    "if day == 1:\n",
    "    print(\"monday\")\n",
    "elif day == 2:\n",
    "    print(\"tuesday\")\n",
    "elif day == 3:\n",
    "    print(\"wednesday\")\n",
    "elif day == 4:\n",
    "    print(\"thursday\")\n",
    "elif day == 5:\n",
    "    print(\"friday\")\n",
    "elif day == 6:\n",
    "    print(\"saturday\")\n",
    "else:\n",
    "    print(\"sunday\")\n",
    "    "
   ]
  },
  {
   "cell_type": "code",
   "execution_count": 45,
   "id": "764e1331",
   "metadata": {},
   "outputs": [
    {
     "name": "stdout",
     "output_type": "stream",
     "text": [
      "enter any number between 1 to 125\n",
      "MAY 31 DAYS\n"
     ]
    }
   ],
   "source": [
    "num = int(input(\"enter any number between 1 to 12\"))\n",
    "if num == 1:\n",
    "    print(\"JANUARY\",\"31 DAYS\")\n",
    "elif num == 2:\n",
    "    print(\"FEBRUARY\", \"28 DAYS\")\n",
    "elif num == 3:\n",
    "    print(\"MARCH\",\"31 DAYS\")\n",
    "elif num == 4:\n",
    "    print(\"APRIL\",\"30 DAYS\")\n",
    "elif num == 5:\n",
    "    print(\"MAY\",\"31 DAYS\")\n",
    "elif num == 6:\n",
    "    print(\"JUNE\",\"30 DAYS\")\n",
    "elif num == 7:\n",
    "    print(\"JULY\",\"31 DAYS\")\n",
    "elif num == 8:\n",
    "    print(\"AUGUST\",\"31 DAYS\")\n",
    "elif num == 9:\n",
    "    print(\"SEPTEMBER\",\"30 DAYS\")\n",
    "elif num == 10:\n",
    "    print(\"OCTOBER\",\"31\")\n",
    "elif num == 11:\n",
    "    print(\"NOV\",\"30 DAYS\")\n",
    "else:\n",
    "    print(\"DEC\",\"31 DAYS\")"
   ]
  },
  {
   "cell_type": "code",
   "execution_count": 46,
   "id": "3311e008",
   "metadata": {},
   "outputs": [
    {
     "name": "stdout",
     "output_type": "stream",
     "text": [
      "101\n"
     ]
    }
   ],
   "source": [
    "if True:\n",
    "    print(101)\n",
    "else:\n",
    "    print(102)"
   ]
  },
  {
   "cell_type": "code",
   "execution_count": 47,
   "id": "c6fcd275",
   "metadata": {},
   "outputs": [
    {
     "name": "stdout",
     "output_type": "stream",
     "text": [
      "Enter a city name: AGRA\n",
      "Monuments in AGRA :\n",
      "taj mahal\n"
     ]
    }
   ],
   "source": [
    "# enter the and you get monuments of that city\n",
    "\n",
    "monuments = {\n",
    "    \"DELHI\": [\"red fort\"],\n",
    "    \"AGRA\": [\"taj mahal\"],\n",
    "    \"JAIPUR\": [\"jal mahal\"],\n",
    "}\n",
    "\n",
    "city = input(\"Enter a city name: \")\n",
    "\n",
    "if city in monuments:\n",
    "    print(\"Monuments in\", city, \":\")\n",
    "    for monument in monuments[city]:\n",
    "        print( monument)\n",
    "else:\n",
    "    print(\"Sorry, we don't have information about monuments in\", city)"
   ]
  },
  {
   "cell_type": "code",
   "execution_count": 48,
   "id": "a5d36ac1",
   "metadata": {},
   "outputs": [
    {
     "name": "stdout",
     "output_type": "stream",
     "text": [
      "enter the city name : AGRA\n",
      "MONUMENTS NAME IS : TAJ MEHEL\n"
     ]
    }
   ],
   "source": [
    "city = input(\"enter the city name : \")\n",
    "if city.lower() == \"delhi\":\n",
    "    print(\"MONUMENT NAME IS : RED FORT\")\n",
    "elif city.lower() == \"jaipur\":\n",
    "    print(\"MONUMENTS NAME IS : JALMEHEL\")\n",
    "elif city.lower() == \"agra\":\n",
    "    print(\"MONUMENTS NAME IS : TAJ MEHEL\")\n",
    "else:\n",
    "    print(\"enter the correct city name\")"
   ]
  },
  {
   "cell_type": "code",
   "execution_count": 57,
   "id": "830cf236",
   "metadata": {},
   "outputs": [
    {
     "name": "stdout",
     "output_type": "stream",
     "text": [
      "hello\n"
     ]
    }
   ],
   "source": [
    "if(9 > 5 and 9 <= 10):\n",
    "    print(\"hello\")\n",
    "else:\n",
    "    print(\"bye\")"
   ]
  },
  {
   "cell_type": "code",
   "execution_count": 4,
   "id": "dbf78ec6",
   "metadata": {},
   "outputs": [
    {
     "name": "stdout",
     "output_type": "stream",
     "text": [
      "enter any num444\n",
      "middle digit is 4\n"
     ]
    }
   ],
   "source": [
    "# write a program to check wheather a number entered is tree digit number or not\n",
    "\n",
    "num1 = (input(\"enter any num\"))\n",
    "l = len(num1)\n",
    "if l != 3:\n",
    "    print(\"enter three digit num\")\n",
    "else:\n",
    "    print(\"middle digit is\",int(num1)%100//10)"
   ]
  },
  {
   "cell_type": "code",
   "execution_count": 8,
   "id": "663eef97",
   "metadata": {},
   "outputs": [
    {
     "name": "stdout",
     "output_type": "stream",
     "text": [
      "Enter the age : 19\n",
      "you are eligibe for voting\n"
     ]
    }
   ],
   "source": [
    "age =  int(input(\"Enter the age : \"))\n",
    "if age >= 18:\n",
    "    print(\"you are eligibe for voting\")\n",
    "else :\n",
    "    print(\"you are not eligible for voting\")"
   ]
  },
  {
   "cell_type": "code",
   "execution_count": 10,
   "id": "fac2869e",
   "metadata": {},
   "outputs": [
    {
     "name": "stdout",
     "output_type": "stream",
     "text": [
      "Enter the age  : 69\n",
      "you are senior citizen\n"
     ]
    }
   ],
   "source": [
    "age = int(input(\"Enter the age  : \"))\n",
    "if age >=50 :\n",
    "    print(\"you are senior citizen\")\n",
    "else :\n",
    "    print(\"you are not senior citizen\")"
   ]
  },
  {
   "cell_type": "code",
   "execution_count": 11,
   "id": "4d7578c2",
   "metadata": {},
   "outputs": [
    {
     "name": "stdout",
     "output_type": "stream",
     "text": [
      "enter the number55\n",
      "enter the number65\n",
      "smaller num is : 55\n"
     ]
    }
   ],
   "source": [
    "num1 = int(input(\"enter the number\"))\n",
    "num2 = int(input(\"enter the number\"))\n",
    "if num1 > num2:\n",
    "    print(\"smaller num is :\" , num2)\n",
    "else:\n",
    "    print(\"smaller num is :\", num1)"
   ]
  },
  {
   "cell_type": "code",
   "execution_count": 12,
   "id": "1302139b",
   "metadata": {},
   "outputs": [
    {
     "name": "stdout",
     "output_type": "stream",
     "text": [
      "enter the number25\n",
      "enter the number24\n",
      "Gratetst num is : 25\n"
     ]
    }
   ],
   "source": [
    "num1 = int(input(\"enter the number\"))\n",
    "num2 = int(input(\"enter the number\"))\n",
    "if num1 > num2:\n",
    "    print(\"Gratetst num is :\" , num1)\n",
    "else:\n",
    "    print(\"Gratest num is :\", num2)"
   ]
  },
  {
   "cell_type": "code",
   "execution_count": 24,
   "id": "03e710a0",
   "metadata": {},
   "outputs": [
    {
     "name": "stdout",
     "output_type": "stream",
     "text": [
      "enter the num0\n",
      "it is a positive number\n"
     ]
    }
   ],
   "source": [
    "num = int(input(\"enter the num\"))\n",
    "if num >=0 :\n",
    "    print(\"it is a positive number\")\n",
    "else :\n",
    "    print(\"it is a negative number\")"
   ]
  },
  {
   "cell_type": "code",
   "execution_count": 25,
   "id": "c8716910",
   "metadata": {},
   "outputs": [
    {
     "name": "stdout",
     "output_type": "stream",
     "text": [
      "enter the num3\n",
      "it is a odd number\n"
     ]
    }
   ],
   "source": [
    "num = int(input(\"enter the num\"))\n",
    "if num %2==0:\n",
    "    print(\"it is a even number\")\n",
    "else:\n",
    "    print(\"it is a odd number\")"
   ]
  },
  {
   "cell_type": "code",
   "execution_count": 27,
   "id": "e9a0bd8d",
   "metadata": {},
   "outputs": [
    {
     "name": "stdout",
     "output_type": "stream",
     "text": [
      "enter the number9\n"
     ]
    }
   ],
   "source": [
    "num = int(input(\"enter the number\"))\n",
    "if num %2== 0 and num %3==0:\n",
    "    print(\"it is divisble by 2,3\")\n",
    "else:\n",
    "    (\"print it is not divisble\")"
   ]
  },
  {
   "cell_type": "code",
   "execution_count": 28,
   "id": "e17bb41d",
   "metadata": {},
   "outputs": [
    {
     "name": "stdout",
     "output_type": "stream",
     "text": [
      "enter the number34\n",
      "enter the number35\n",
      "enter the number36\n",
      "gratest num is 3\n"
     ]
    }
   ],
   "source": [
    "num1 = int(input(\"enter the number\"))\n",
    "num2 = int(input(\"enter the number\"))\n",
    "num3 = int(input(\"enter the number\"))\n",
    "if num1 > num2 and num1 > num3 :\n",
    "    print(\"gratest num is\", 1)\n",
    "if num2 > num1 and num2 > num3:\n",
    "    print(\"gartest num is\", 2)\n",
    "if num3 > num2 and num3 > num1:\n",
    "    print(\"gratest num is\", 3)"
   ]
  },
  {
   "cell_type": "code",
   "execution_count": 9,
   "id": "a439732e",
   "metadata": {},
   "outputs": [
    {
     "name": "stdout",
     "output_type": "stream",
     "text": [
      "enter total no of woking days500\n",
      "enter total no of absent days450\n",
      "your attendence is 10.0\n",
      "you are not eligible\n"
     ]
    }
   ],
   "source": [
    "#accept the total no of working day and absent calculate if the percemt is 75\n",
    "#the student will not be able to sit in the exam\"\"\"\n",
    "#wd=working days , ad = absent days\n",
    "wd = int(input(\"enter total no of woking days\"))\n",
    "ad = int(input(\"enter total no of absent days\"))\n",
    "per = (wd-ad)/wd*100\n",
    "print(\"your attendence is\",per)\n",
    "if per >75:\n",
    "    print(\"you are eligible for exams\")\n",
    "else : \n",
    "    print(\"you are not eligible\")"
   ]
  },
  {
   "cell_type": "code",
   "execution_count": 16,
   "id": "48cb251d",
   "metadata": {},
   "outputs": [
    {
     "name": "stdout",
     "output_type": "stream",
     "text": [
      "enter the time period service : 8\n",
      "enter your salary : 70000\n",
      "bonus is : 5600.0\n"
     ]
    }
   ],
   "source": [
    "#ask for their salary and years of service and print the net bonus amount\n",
    "\n",
    "service = int(input(\"enter the time period service : \"))\n",
    "salary  = int(input(\"enter your salary : \"))\n",
    "if service > 10:\n",
    "    b = 10/100*salary\n",
    "if service >=6 and service <=10:\n",
    "    b = 8/100*salary\n",
    "if service <6:\n",
    "    b = 5/100*salary\n",
    "print(\"bonus is\",\":\",b)"
   ]
  },
  {
   "cell_type": "code",
   "execution_count": 2,
   "id": "5916d19e",
   "metadata": {},
   "outputs": [
    {
     "name": "stdout",
     "output_type": "stream",
     "text": [
      "enter marked price: 40000\n",
      "Net amount to pay : 32000.0\n"
     ]
    }
   ],
   "source": [
    "#accept the marked price from the user and calculate the net amount\n",
    "# na = net amount , d = discount ,  mp = marked price\n",
    "\n",
    "na=0\n",
    "d=0\n",
    "mp = int(input(\"enter marked price: \"))\n",
    "if mp>10000:\n",
    "    d=20/100*mp\n",
    "if mp >7000 and mp <=10000:\n",
    "    d = 15/100*mp\n",
    "if mp <=7000:\n",
    "    d = 10/100*mp\n",
    "na = mp-d\n",
    "print(\"Net amount to pay\",\":\", na)"
   ]
  },
  {
   "cell_type": "code",
   "execution_count": 9,
   "id": "f9c9d366",
   "metadata": {},
   "outputs": [
    {
     "name": "stdout",
     "output_type": "stream",
     "text": [
      "Enter first side of triangle90\n",
      "Enter second side of triangle90\n",
      "Enter third side of triangle90\n",
      "Equilateral traingle\n"
     ]
    }
   ],
   "source": [
    "#accept three sides of a triangle and check it is an equilateral , isosceles ,scalene\n",
    "\n",
    "s1 = int(input(\"Enter first side of triangle\"))\n",
    "s2 = int(input(\"Enter second side of triangle\"))\n",
    "s3 = int(input(\"Enter third side of triangle\"))\n",
    "if s1==s2 and s2==s3:\n",
    "    print(\"Equilateral traingle\")\n",
    "if (s1==s2 and s2!=s3) or (s2==s3 and s2!=s1) or (s1==s3 and s1!=s2):\n",
    "    print(\"isosceles Triangle\")\n",
    "if s1!=s2 and s1!=s3 and s2!=s3:\n",
    "    print(\"Scalene triangle\")"
   ]
  },
  {
   "cell_type": "code",
   "execution_count": 11,
   "id": "240e9b87",
   "metadata": {},
   "outputs": [
    {
     "name": "stdout",
     "output_type": "stream",
     "text": [
      "Enter first number: 5\n",
      "Enter second number: 5\n",
      "Enter mathematical operators: //\n",
      "Result is : 1\n"
     ]
    }
   ],
   "source": [
    "#write a program to accept two numbers and mathematical operators and perform \n",
    "#operation accordingly\n",
    "\n",
    "num = int(input(\"Enter first number: \"))\n",
    "num1 = int(input(\"Enter second number: \"))\n",
    "op = input(\"Enter mathematical operators: \")\n",
    "\n",
    "if op ==\"+\":\n",
    "    print(\"Result is\",\":\",num + num1)\n",
    "if op ==\"-\":\n",
    "    print(\"Result is\",\":\",num - num1)\n",
    "if op ==\"*\":\n",
    "    print(\"Result is\",\":\",num * num1)\n",
    "if op ==\"/\":\n",
    "    print(\"Result is\",\":\",num / num1)\n",
    "if op ==\"%\":\n",
    "    print(\"Result is\",\":\",num % num1)\n",
    "if op ==\"**\":\n",
    "    print(\"Result is\",\":\",num ** num1)\n",
    "if op ==\"//\":\n",
    "    print(\"Result is\",\":\",num // num1)"
   ]
  },
  {
   "cell_type": "code",
   "execution_count": null,
   "id": "b1c490f3",
   "metadata": {},
   "outputs": [],
   "source": []
  }
 ],
 "metadata": {
  "kernelspec": {
   "display_name": "Python 3 (ipykernel)",
   "language": "python",
   "name": "python3"
  },
  "language_info": {
   "codemirror_mode": {
    "name": "ipython",
    "version": 3
   },
   "file_extension": ".py",
   "mimetype": "text/x-python",
   "name": "python",
   "nbconvert_exporter": "python",
   "pygments_lexer": "ipython3",
   "version": "3.9.12"
  }
 },
 "nbformat": 4,
 "nbformat_minor": 5
}
